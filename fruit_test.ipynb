{
 "cells": [
  {
   "cell_type": "code",
   "execution_count": 1,
   "metadata": {},
   "outputs": [],
   "source": [
    "import numpy as np\n",
    "from tensorflow.keras.models import load_model\n",
    "from tensorflow.keras.preprocessing import image\n",
    "from tensorflow.keras.preprocessing.image import img_to_array"
   ]
  },
  {
   "cell_type": "code",
   "execution_count": 2,
   "metadata": {},
   "outputs": [],
   "source": [
    "model=load_model(\"fruit.h5\")"
   ]
  },
  {
   "cell_type": "code",
   "execution_count": 8,
   "metadata": {},
   "outputs": [
    {
     "data": {
      "text/plain": [
       "'/home/wsuser/work'"
      ]
     },
     "execution_count": 8,
     "metadata": {},
     "output_type": "execute_result"
    }
   ],
   "source": [
    "pwd"
   ]
  },
  {
   "cell_type": "code",
   "execution_count": 17,
   "metadata": {},
   "outputs": [],
   "source": [
    "img=image.load_img(r\"/home/wsuser/work/Dataset Plant Disease/fruit-dataset/fruit-dataset/test/Apple___healthy/00fca0da-2db3-481b-b98a-9b67bb7b105c___RS_HL 7708.JPG\",target_size=(128,128))"
   ]
  },
  {
   "cell_type": "code",
   "execution_count": 18,
   "metadata": {},
   "outputs": [
    {
     "data": {
      "image/png": "[encoded data removed]",
      "text/plain": [
       "<PIL.Image.Image image mode=RGB size=128x128 at 0x7FB429DBA130>"
      ]
     },
     "execution_count": 18,
     "metadata": {},
     "output_type": "execute_result"
    }
   ],
   "source": [
    "img"
   ]
  },
  {
   "cell_type": "code",
   "execution_count": 19,
   "metadata": {},
   "outputs": [],
   "source": [
    "x=image.img_to_array(img)\n",
    "x=np.expand_dims(x,axis=0)"
   ]
  },
  {
   "cell_type": "code",
   "execution_count": 20,
   "metadata": {},
   "outputs": [
    {
     "data": {
      "text/plain": [
       "array([[[[165., 153., 189.],\n",
       "         [165., 153., 189.],\n",
       "         [165., 153., 189.],\n",
       "         ...,\n",
       "         [176., 170., 206.],\n",
       "         [176., 170., 206.],\n",
       "         [176., 170., 206.]],\n",
       "\n",
       "        [[164., 152., 188.],\n",
       "         [164., 152., 188.],\n",
       "         [164., 152., 188.],\n",
       "         ...,\n",
       "         [173., 167., 203.],\n",
       "         [172., 166., 202.],\n",
       "         [172., 166., 202.]],\n",
       "\n",
       "        [[163., 151., 187.],\n",
       "         [163., 151., 187.],\n",
       "         [163., 151., 187.],\n",
       "         ...,\n",
       "         [172., 166., 202.],\n",
       "         [170., 164., 200.],\n",
       "         [169., 163., 199.]],\n",
       "\n",
       "        ...,\n",
       "\n",
       "        [[135., 119., 156.],\n",
       "         [139., 123., 160.],\n",
       "         [134., 118., 155.],\n",
       "         ...,\n",
       "         [143., 133., 168.],\n",
       "         [138., 128., 163.],\n",
       "         [141., 131., 166.]],\n",
       "\n",
       "        [[136., 120., 157.],\n",
       "         [134., 118., 155.],\n",
       "         [134., 118., 155.],\n",
       "         ...,\n",
       "         [141., 131., 166.],\n",
       "         [141., 131., 166.],\n",
       "         [146., 136., 171.]],\n",
       "\n",
       "        [[135., 119., 156.],\n",
       "         [140., 124., 161.],\n",
       "         [143., 127., 164.],\n",
       "         ...,\n",
       "         [145., 135., 170.],\n",
       "         [151., 141., 176.],\n",
       "         [140., 130., 165.]]]], dtype=float32)"
      ]
     },
     "execution_count": 20,
     "metadata": {},
     "output_type": "execute_result"
    }
   ],
   "source": [
    "x"
   ]
  },
  {
   "cell_type": "code",
   "execution_count": 21,
   "metadata": {},
   "outputs": [],
   "source": [
    "pred=np.argmax(model.predict(x),axis=1)"
   ]
  },
  {
   "cell_type": "code",
   "execution_count": 22,
   "metadata": {},
   "outputs": [
    {
     "data": {
      "text/plain": [
       "array([1])"
      ]
     },
     "execution_count": 22,
     "metadata": {},
     "output_type": "execute_result"
    }
   ],
   "source": [
    "pred"
   ]
  },
  {
   "cell_type": "code",
   "execution_count": null,
   "metadata": {},
   "outputs": [],
   "source": []
  }
 ],
 "metadata": {
  "kernelspec": {
   "display_name": "Python 3",
   "language": "python",
   "name": "python3"
  },
  "language_info": {
   "codemirror_mode": {
    "name": "ipython",
    "version": 3
   },
   "file_extension": ".py",
   "mimetype": "text/x-python",
   "name": "python",
   "nbconvert_exporter": "python",
   "pygments_lexer": "ipython3",
   "version": "3.7.3"
  }
 },
 "nbformat": 4,
 "nbformat_minor": 1
}
